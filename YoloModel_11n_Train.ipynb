{
  "cells": [
    {
      "cell_type": "code",
      "execution_count": null,
      "metadata": {
        "colab": {
          "base_uri": "https://localhost:8080/"
        },
        "id": "BSyxhQYQ6hqm",
        "outputId": "1c8327bc-0b9e-4442-9439-75ca483a22b1"
      },
      "outputs": [],
      "source": [
        "!wget http://images.cocodataset.org/annotations/annotations_trainval2017.zip -P /content/drive/MyDrive/dataset/test/"
      ]
    },
    {
      "cell_type": "code",
      "execution_count": null,
      "metadata": {
        "id": "yD3dpXIY6mIF"
      },
      "outputs": [],
      "source": [
        "# Downloading the COCO dataset for object detection\n",
        "\n",
        "!wget http://images.cocodataset.org/zips/train2017.zip -P /content/drive/MyDrive/dataset/train/   # train dataset\n",
        "!wget http://images.cocodataset.org/zips/val2017.zip -P /content/drive/MyDrive/dataset/val/     # validation dataset\n",
        "!wget http://images.cocodataset.org/zips/test2017.zip -P /content/drive/MyDrive/dataset/test/    # test dataset\n",
        "\n",
        "\n",
        "!wget http://images.cocodataset.org/annotations/annotations_trainval2017.zip -P /content/drive/MyDrive/dataset/test/"
      ]
    },
    {
      "cell_type": "code",
      "execution_count": null,
      "metadata": {
        "id": "ycQcMjHhLQdj"
      },
      "outputs": [],
      "source": [
        "!mv /content/drive/MyDrive/dataset/test/annotations_trainval2017.zip /content/drive/MyDrive/dataset/"
      ]
    },
    {
      "cell_type": "code",
      "execution_count": null,
      "metadata": {
        "id": "fSODv66XLdmz"
      },
      "outputs": [],
      "source": [
        "# Unzipping the downloaded files\n",
        "import zipfile\n",
        "import os\n",
        "\n",
        "train_path = \"/content\"\n",
        "\n",
        "train_zip_path = \"/content/dataset.zip\"\n",
        "\n",
        "# 압축 해제\n",
        "with zipfile.ZipFile(train_zip_path, 'r') as zip_ref:\n",
        "    zip_ref.extractall(train_path)\n"
      ]
    },
    {
      "cell_type": "code",
      "execution_count": null,
      "metadata": {
        "colab": {
          "base_uri": "https://localhost:8080/"
        },
        "id": "iynXBaiu06zG",
        "outputId": "78608cd4-e371-4d2a-9f7d-bc78397e58b9"
      },
      "outputs": [],
      "source": [
        "%pip install ultralytics"
      ]
    },
    {
      "cell_type": "code",
      "execution_count": null,
      "metadata": {
        "id": "rXIT1rZZzAS5"
      },
      "outputs": [],
      "source": [
        "from ultralytics import YOLO\n",
        "\n",
        "# Load a COCO-pretrained YOLO11n model\n",
        "model = YOLO(\"yolo11n.pt\")"
      ]
    },
    {
      "cell_type": "code",
      "execution_count": null,
      "metadata": {
        "colab": {
          "base_uri": "https://localhost:8080/"
        },
        "id": "PyE8bru-z8Lm",
        "outputId": "3842fc34-c91f-4331-f345-6624a9be1e9f"
      },
      "outputs": [],
      "source": [
        "results = model.train(\n",
        "    data='/content/cocoData.yaml',\n",
        "    epochs=5,\n",
        "    imgsz=640,\n",
        "    batch=64\n",
        ")"
      ]
    }
  ],
  "metadata": {
    "accelerator": "GPU",
    "colab": {
      "gpuType": "T4",
      "provenance": []
    },
    "kernelspec": {
      "display_name": "Python 3",
      "name": "python3"
    },
    "language_info": {
      "name": "python"
    }
  },
  "nbformat": 4,
  "nbformat_minor": 0
}
